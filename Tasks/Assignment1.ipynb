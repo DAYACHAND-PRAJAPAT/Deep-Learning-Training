{
 "cells": [
  {
   "cell_type": "code",
   "execution_count": 1,
   "id": "6ba29ffa",
   "metadata": {},
   "outputs": [],
   "source": [
    "import numpy as np\n",
    "import pandas as pd\n",
    "import matplotlib.pyplot as plt"
   ]
  },
  {
   "cell_type": "code",
   "execution_count": 2,
   "id": "333e0deb",
   "metadata": {},
   "outputs": [
    {
     "data": {
      "text/html": [
       "<div>\n",
       "<style scoped>\n",
       "    .dataframe tbody tr th:only-of-type {\n",
       "        vertical-align: middle;\n",
       "    }\n",
       "\n",
       "    .dataframe tbody tr th {\n",
       "        vertical-align: top;\n",
       "    }\n",
       "\n",
       "    .dataframe thead th {\n",
       "        text-align: right;\n",
       "    }\n",
       "</style>\n",
       "<table border=\"1\" class=\"dataframe\">\n",
       "  <thead>\n",
       "    <tr style=\"text-align: right;\">\n",
       "      <th></th>\n",
       "      <th>Hours</th>\n",
       "      <th>Scores</th>\n",
       "    </tr>\n",
       "  </thead>\n",
       "  <tbody>\n",
       "    <tr>\n",
       "      <th>0</th>\n",
       "      <td>4.6</td>\n",
       "      <td>44</td>\n",
       "    </tr>\n",
       "    <tr>\n",
       "      <th>1</th>\n",
       "      <td>4.7</td>\n",
       "      <td>45</td>\n",
       "    </tr>\n",
       "    <tr>\n",
       "      <th>2</th>\n",
       "      <td>6.7</td>\n",
       "      <td>59</td>\n",
       "    </tr>\n",
       "    <tr>\n",
       "      <th>3</th>\n",
       "      <td>5.4</td>\n",
       "      <td>53</td>\n",
       "    </tr>\n",
       "    <tr>\n",
       "      <th>4</th>\n",
       "      <td>1.4</td>\n",
       "      <td>18</td>\n",
       "    </tr>\n",
       "    <tr>\n",
       "      <th>5</th>\n",
       "      <td>1.5</td>\n",
       "      <td>32</td>\n",
       "    </tr>\n",
       "    <tr>\n",
       "      <th>6</th>\n",
       "      <td>9.1</td>\n",
       "      <td>82</td>\n",
       "    </tr>\n",
       "    <tr>\n",
       "      <th>7</th>\n",
       "      <td>4.9</td>\n",
       "      <td>50</td>\n",
       "    </tr>\n",
       "    <tr>\n",
       "      <th>8</th>\n",
       "      <td>7.1</td>\n",
       "      <td>81</td>\n",
       "    </tr>\n",
       "    <tr>\n",
       "      <th>9</th>\n",
       "      <td>4.4</td>\n",
       "      <td>42</td>\n",
       "    </tr>\n",
       "  </tbody>\n",
       "</table>\n",
       "</div>"
      ],
      "text/plain": [
       "   Hours  Scores\n",
       "0    4.6      44\n",
       "1    4.7      45\n",
       "2    6.7      59\n",
       "3    5.4      53\n",
       "4    1.4      18\n",
       "5    1.5      32\n",
       "6    9.1      82\n",
       "7    4.9      50\n",
       "8    7.1      81\n",
       "9    4.4      42"
      ]
     },
     "execution_count": 2,
     "metadata": {},
     "output_type": "execute_result"
    }
   ],
   "source": [
    "df = pd.read_csv('student_scores.csv')\n",
    "df.head(10)"
   ]
  },
  {
   "cell_type": "code",
   "execution_count": 3,
   "id": "83d1af81",
   "metadata": {},
   "outputs": [
    {
     "data": {
      "text/plain": [
       "(50, 2)"
      ]
     },
     "execution_count": 3,
     "metadata": {},
     "output_type": "execute_result"
    }
   ],
   "source": [
    "df.shape"
   ]
  },
  {
   "cell_type": "code",
   "execution_count": 4,
   "id": "3056659d",
   "metadata": {},
   "outputs": [
    {
     "name": "stdout",
     "output_type": "stream",
     "text": [
      "(50,)\n",
      "(50,)\n"
     ]
    }
   ],
   "source": [
    "x = df['Hours']\n",
    "y = df['Scores']\n",
    "print(x.shape)\n",
    "print(y.shape)"
   ]
  },
  {
   "cell_type": "code",
   "execution_count": 5,
   "id": "ad541df6",
   "metadata": {},
   "outputs": [
    {
     "name": "stdout",
     "output_type": "stream",
     "text": [
      "0\n",
      "0\n"
     ]
    }
   ],
   "source": [
    "print(x.isnull().sum())\n",
    "print(y.isnull().sum())"
   ]
  },
  {
   "cell_type": "code",
   "execution_count": 6,
   "id": "88c8b127",
   "metadata": {},
   "outputs": [
    {
     "name": "stdout",
     "output_type": "stream",
     "text": [
      "9.1\n",
      "0.8\n",
      "100\n",
      "9\n",
      "4.644\n",
      "4.4\n",
      "46.22\n",
      "44.5\n"
     ]
    }
   ],
   "source": [
    "max_hours = df['Hours'].max()\n",
    "print(max_hours)\n",
    "min_hours = df['Hours'].min()\n",
    "print(min_hours)\n",
    "\n",
    "max_marks = df['Scores'].max()\n",
    "print(max_marks)\n",
    "min_marks = df['Scores'].min()\n",
    "print(min_marks)\n",
    "\n",
    "hours_mean = df['Hours'].mean()\n",
    "print(hours_mean)\n",
    "hours_median = df['Hours'].median()\n",
    "print(hours_median)\n",
    "\n",
    "marks_mean = df['Scores'].mean()\n",
    "print(marks_mean)\n",
    "marks_median = df['Scores'].median()\n",
    "print(marks_median)"
   ]
  },
  {
   "cell_type": "code",
   "execution_count": 7,
   "id": "837b8eed",
   "metadata": {},
   "outputs": [],
   "source": [
    "from sklearn.model_selection import train_test_split\n",
    "\n",
    "X_train,X_test,Y_train,Y_test = train_test_split(x,y,test_size=0.3,random_state=42)"
   ]
  },
  {
   "cell_type": "code",
   "execution_count": 8,
   "id": "02250557",
   "metadata": {},
   "outputs": [
    {
     "data": {
      "text/plain": [
       "6     9.1\n",
       "41    4.0\n",
       "46    4.4\n",
       "47    7.5\n",
       "15    5.7\n",
       "9     4.4\n",
       "16    8.0\n",
       "24    3.9\n",
       "34    3.1\n",
       "31    4.7\n",
       "0     4.6\n",
       "44    5.0\n",
       "27    8.2\n",
       "33    4.3\n",
       "5     1.5\n",
       "29    3.1\n",
       "11    4.6\n",
       "36    2.2\n",
       "1     4.7\n",
       "21    7.0\n",
       "2     6.7\n",
       "43    3.7\n",
       "35    7.0\n",
       "23    4.4\n",
       "40    4.5\n",
       "10    8.7\n",
       "22    4.3\n",
       "18    2.0\n",
       "49    1.1\n",
       "20    8.4\n",
       "7     4.9\n",
       "42    2.1\n",
       "14    5.1\n",
       "28    9.1\n",
       "38    3.3\n",
       "Name: Hours, dtype: float64"
      ]
     },
     "execution_count": 8,
     "metadata": {},
     "output_type": "execute_result"
    }
   ],
   "source": [
    "X_train"
   ]
  },
  {
   "cell_type": "code",
   "execution_count": 9,
   "id": "952b2da1",
   "metadata": {},
   "outputs": [
    {
     "data": {
      "text/plain": [
       "13    8.8\n",
       "39    7.4\n",
       "30    4.5\n",
       "45    1.0\n",
       "17    1.1\n",
       "48    3.8\n",
       "26    4.0\n",
       "25    3.8\n",
       "32    2.8\n",
       "19    2.1\n",
       "12    2.9\n",
       "4     1.4\n",
       "37    0.8\n",
       "8     7.1\n",
       "3     5.4\n",
       "Name: Hours, dtype: float64"
      ]
     },
     "execution_count": 9,
     "metadata": {},
     "output_type": "execute_result"
    }
   ],
   "source": [
    "X_test"
   ]
  },
  {
   "cell_type": "code",
   "execution_count": 10,
   "id": "8b9e926e",
   "metadata": {},
   "outputs": [
    {
     "name": "stdout",
     "output_type": "stream",
     "text": [
      "(15,)\n",
      "(35,)\n"
     ]
    }
   ],
   "source": [
    "print(X_test.shape)\n",
    "print(X_train.shape)"
   ]
  },
  {
   "cell_type": "code",
   "execution_count": 11,
   "id": "ea47c6d2",
   "metadata": {},
   "outputs": [
    {
     "data": {
      "image/png": "[encoded data removed]",
      "text/plain": [
       "<Figure size 640x480 with 1 Axes>"
      ]
     },
     "metadata": {},
     "output_type": "display_data"
    }
   ],
   "source": [
    "# Visualization\n",
    "\n",
    "plt.scatter(x,y,color='red',marker='o',s=70)\n",
    "plt.xlabel('Hours')\n",
    "plt.ylabel('Scores')\n",
    "plt.title('Scatter Plot Of Student Performance')\n",
    "plt.savefig('fig1.png')\n",
    "plt.show()"
   ]
  },
  {
   "cell_type": "code",
   "execution_count": 13,
   "id": "4a3ef762",
   "metadata": {},
   "outputs": [
    {
     "data": {
      "image/png": "[encoded data removed]",
      "text/plain": [
       "<Figure size 640x480 with 1 Axes>"
      ]
     },
     "metadata": {},
     "output_type": "display_data"
    }
   ],
   "source": [
    "plt.scatter(X_test,Y_test,color='red',label='Testing Data')\n",
    "plt.scatter(X_train,Y_train,color='green',label=\"Training Data\")\n",
    "plt.xlabel('Hours')\n",
    "plt.ylabel(\"Scores\")\n",
    "plt.savefig('fig2.png')\n",
    "plt.legend()\n",
    "plt.grid(True)\n",
    "plt.show()"
   ]
  }
 ],
 "metadata": {
  "kernelspec": {
   "display_name": "base",
   "language": "python",
   "name": "python3"
  },
  "language_info": {
   "codemirror_mode": {
    "name": "ipython",
    "version": 3
   },
   "file_extension": ".py",
   "mimetype": "text/x-python",
   "name": "python",
   "nbconvert_exporter": "python",
   "pygments_lexer": "ipython3",
   "version": "3.12.7"
  }
 },
 "nbformat": 4,
 "nbformat_minor": 5
}
