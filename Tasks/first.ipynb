{
 "cells": [
  {
   "cell_type": "code",
   "execution_count": 15,
   "id": "976cc362",
   "metadata": {},
   "outputs": [
    {
     "name": "stdout",
     "output_type": "stream",
     "text": [
      "[[ 2  4  6  8 10]\n",
      " [12 14 16 18 20]]\n",
      "(2, 5)\n"
     ]
    }
   ],
   "source": [
    "import numpy as np\n",
    "arr = np.array([[1,2,3,4,5],[6,7,8,9,10]])\n",
    "print(arr*2)\n",
    "print(arr.shape)"
   ]
  },
  {
   "cell_type": "code",
   "execution_count": 17,
   "id": "18ed0326",
   "metadata": {},
   "outputs": [
    {
     "data": {
      "text/html": [
       "<div>\n",
       "<style scoped>\n",
       "    .dataframe tbody tr th:only-of-type {\n",
       "        vertical-align: middle;\n",
       "    }\n",
       "\n",
       "    .dataframe tbody tr th {\n",
       "        vertical-align: top;\n",
       "    }\n",
       "\n",
       "    .dataframe thead th {\n",
       "        text-align: right;\n",
       "    }\n",
       "</style>\n",
       "<table border=\"1\" class=\"dataframe\">\n",
       "  <thead>\n",
       "    <tr style=\"text-align: right;\">\n",
       "      <th></th>\n",
       "      <th>Name</th>\n",
       "      <th>Age</th>\n",
       "    </tr>\n",
       "  </thead>\n",
       "  <tbody>\n",
       "    <tr>\n",
       "      <th>0</th>\n",
       "      <td>Alice</td>\n",
       "      <td>25</td>\n",
       "    </tr>\n",
       "    <tr>\n",
       "      <th>1</th>\n",
       "      <td>Bob</td>\n",
       "      <td>30</td>\n",
       "    </tr>\n",
       "  </tbody>\n",
       "</table>\n",
       "</div>"
      ],
      "text/plain": [
       "    Name  Age\n",
       "0  Alice   25\n",
       "1    Bob   30"
      ]
     },
     "execution_count": 17,
     "metadata": {},
     "output_type": "execute_result"
    }
   ],
   "source": [
    "import pandas as pd\n",
    "arr2 = pd.DataFrame(arr)\n",
    "arr2\n",
    "\n",
    "data = {'Name':[\"Alice\",\"Bob\"],\n",
    "        \"Age\":[25,30]}\n",
    "df = pd.DataFrame(data)\n",
    "df"
   ]
  },
  {
   "cell_type": "code",
   "execution_count": 1,
   "id": "982b757f",
   "metadata": {},
   "outputs": [
    {
     "name": "stdout",
     "output_type": "stream",
     "text": [
      "      Name  Age Department  Salary\n",
      "0     Daya   20        CSE   12000\n",
      "1   Vishal   21         ML   34000\n",
      "2  Saurabh   22         CE   34000\n",
      "      Name  Salary\n",
      "0     Daya   12000\n",
      "1   Vishal   34000\n",
      "2  Saurabh   34000\n",
      "3    Mohit   56000\n",
      "4    Kullu   10000\n",
      "29200.0\n",
      "    Name  Age Department  Salary\n",
      "3  Mohit   23         ME   56000\n",
      "18899.73544788392\n",
      "[12000 34000 34000 56000 10000]\n"
     ]
    }
   ],
   "source": [
    "import pandas as pd\n",
    "import numpy as np\n",
    "\n",
    "data = {'Name':[\"Daya\",\"Vishal\",\"Saurabh\",\"Mohit\",\"Kullu\"],\n",
    "        'Age':[20,21,22,23,23],\n",
    "        'Department':[\"CSE\",\"ML\",\"CE\",\"ME\",\"EE\"],\n",
    "        'Salary':[12000,34000,34000,56000,10000]}\n",
    "df = pd.DataFrame(data)\n",
    "df\n",
    "\n",
    "print(df.head(3)) # Top 3 Rows\n",
    "print(df[[\"Name\",\"Salary\"]]) # Two Individual Columns\n",
    "print(df[\"Salary\"].mean()) # Average of Salary\n",
    "print(df[df[\"Salary\"] == df[\"Salary\"].max()]) # Tuple with Highest Salary\n",
    "print(df[\"Salary\"].std()) # Standard Deviation Of Salaries\n",
    "\n",
    "data2 = np.array(df[\"Salary\"])\n",
    "print(data2)"
   ]
  }
 ],
 "metadata": {
  "kernelspec": {
   "display_name": "base",
   "language": "python",
   "name": "python3"
  },
  "language_info": {
   "codemirror_mode": {
    "name": "ipython",
    "version": 3
   },
   "file_extension": ".py",
   "mimetype": "text/x-python",
   "name": "python",
   "nbconvert_exporter": "python",
   "pygments_lexer": "ipython3",
   "version": "3.12.7"
  }
 },
 "nbformat": 4,
 "nbformat_minor": 5
}
